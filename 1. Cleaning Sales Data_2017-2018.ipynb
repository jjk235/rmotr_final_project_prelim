{
 "cells": [
  {
   "cell_type": "code",
   "execution_count": 33,
   "metadata": {
    "collapsed": true
   },
   "outputs": [],
   "source": [
    "import os\n",
    "import glob"
   ]
  },
  {
   "cell_type": "code",
   "execution_count": 34,
   "metadata": {
    "collapsed": true
   },
   "outputs": [],
   "source": [
    "import numpy as np\n",
    "import pandas as pd\n",
    "import datetime\n",
    "import matplotlib.pyplot as plt\n",
    "from datetime import datetime"
   ]
  },
  {
   "cell_type": "code",
   "execution_count": 35,
   "metadata": {
    "collapsed": true
   },
   "outputs": [],
   "source": [
    "#Import the data\n",
    "\n",
    "# path = r\"C:\\Users\\Jae\\Desktop\\Cafe Project\"\n",
    "# allFiles = glob.glob(os.path.join(path,\"*.csv\"))\n",
    "\n",
    "# df_from_each_file = (pd.read_csv(f) for f in allFiles)\n",
    "# all_sales   = pd.concat(df_from_each_file, ignore_index=True)\n",
    "all_sales = pd.concat([pd.read_csv('The Cafe 2017 Sales.csv'),pd.read_csv('The Cafe 2018 Sales.csv')])"
   ]
  },
  {
   "cell_type": "code",
   "execution_count": 36,
   "metadata": {},
   "outputs": [
    {
     "data": {
      "text/html": [
       "<div>\n",
       "<style scoped>\n",
       "    .dataframe tbody tr th:only-of-type {\n",
       "        vertical-align: middle;\n",
       "    }\n",
       "\n",
       "    .dataframe tbody tr th {\n",
       "        vertical-align: top;\n",
       "    }\n",
       "\n",
       "    .dataframe thead th {\n",
       "        text-align: right;\n",
       "    }\n",
       "</style>\n",
       "<table border=\"1\" class=\"dataframe\">\n",
       "  <thead>\n",
       "    <tr style=\"text-align: right;\">\n",
       "      <th></th>\n",
       "      <th>Date</th>\n",
       "      <th>Time</th>\n",
       "      <th>Time Zone</th>\n",
       "      <th>Category</th>\n",
       "      <th>Item</th>\n",
       "      <th>Qty</th>\n",
       "      <th>Price Point Name</th>\n",
       "      <th>SKU</th>\n",
       "      <th>Modifiers Applied</th>\n",
       "      <th>Gross Sales</th>\n",
       "      <th>Discounts</th>\n",
       "      <th>Net Sales</th>\n",
       "      <th>Tax</th>\n",
       "      <th>Dining Option</th>\n",
       "      <th>Customer ID</th>\n",
       "      <th>Customer Name</th>\n",
       "      <th>Customer Reference ID</th>\n",
       "    </tr>\n",
       "  </thead>\n",
       "  <tbody>\n",
       "    <tr>\n",
       "      <th>0</th>\n",
       "      <td>12/31/17</td>\n",
       "      <td>16:01:36</td>\n",
       "      <td>Pacific Time (US &amp; Canada)</td>\n",
       "      <td>Coffee</td>\n",
       "      <td>Americano</td>\n",
       "      <td>1</td>\n",
       "      <td>Small, 12 oz</td>\n",
       "      <td>NaN</td>\n",
       "      <td>NaN</td>\n",
       "      <td>$2.65</td>\n",
       "      <td>$0.00</td>\n",
       "      <td>$2.65</td>\n",
       "      <td>$0.13</td>\n",
       "      <td>To Go</td>\n",
       "      <td>NaN</td>\n",
       "      <td>NaN</td>\n",
       "      <td>NaN</td>\n",
       "    </tr>\n",
       "    <tr>\n",
       "      <th>1</th>\n",
       "      <td>12/31/17</td>\n",
       "      <td>16:01:36</td>\n",
       "      <td>Pacific Time (US &amp; Canada)</td>\n",
       "      <td>Coffee</td>\n",
       "      <td>Macchiato</td>\n",
       "      <td>1</td>\n",
       "      <td>4 oz (trad)</td>\n",
       "      <td>NaN</td>\n",
       "      <td>Decaf</td>\n",
       "      <td>$3.50</td>\n",
       "      <td>$0.00</td>\n",
       "      <td>$3.50</td>\n",
       "      <td>$0.18</td>\n",
       "      <td>To Go</td>\n",
       "      <td>NaN</td>\n",
       "      <td>NaN</td>\n",
       "      <td>NaN</td>\n",
       "    </tr>\n",
       "    <tr>\n",
       "      <th>2</th>\n",
       "      <td>12/31/17</td>\n",
       "      <td>15:47:59</td>\n",
       "      <td>Pacific Time (US &amp; Canada)</td>\n",
       "      <td>Tea</td>\n",
       "      <td>Tea</td>\n",
       "      <td>1</td>\n",
       "      <td>English Breakfast</td>\n",
       "      <td>NaN</td>\n",
       "      <td>NaN</td>\n",
       "      <td>$2.60</td>\n",
       "      <td>$0.00</td>\n",
       "      <td>$2.60</td>\n",
       "      <td>$0.13</td>\n",
       "      <td>To Go</td>\n",
       "      <td>NaN</td>\n",
       "      <td>NaN</td>\n",
       "      <td>NaN</td>\n",
       "    </tr>\n",
       "    <tr>\n",
       "      <th>3</th>\n",
       "      <td>12/31/17</td>\n",
       "      <td>15:47:59</td>\n",
       "      <td>Pacific Time (US &amp; Canada)</td>\n",
       "      <td>Coffee</td>\n",
       "      <td>Americano</td>\n",
       "      <td>1</td>\n",
       "      <td>Small, 12 oz</td>\n",
       "      <td>NaN</td>\n",
       "      <td>NaN</td>\n",
       "      <td>$2.65</td>\n",
       "      <td>$0.00</td>\n",
       "      <td>$2.65</td>\n",
       "      <td>$0.13</td>\n",
       "      <td>To Go</td>\n",
       "      <td>NaN</td>\n",
       "      <td>NaN</td>\n",
       "      <td>NaN</td>\n",
       "    </tr>\n",
       "    <tr>\n",
       "      <th>4</th>\n",
       "      <td>12/31/17</td>\n",
       "      <td>15:47:59</td>\n",
       "      <td>Pacific Time (US &amp; Canada)</td>\n",
       "      <td>Coffee</td>\n",
       "      <td>Latte</td>\n",
       "      <td>1</td>\n",
       "      <td>Small, 12 oz</td>\n",
       "      <td>NaN</td>\n",
       "      <td>NaN</td>\n",
       "      <td>$3.80</td>\n",
       "      <td>$0.00</td>\n",
       "      <td>$3.80</td>\n",
       "      <td>$0.19</td>\n",
       "      <td>To Go</td>\n",
       "      <td>NaN</td>\n",
       "      <td>NaN</td>\n",
       "      <td>NaN</td>\n",
       "    </tr>\n",
       "  </tbody>\n",
       "</table>\n",
       "</div>"
      ],
      "text/plain": [
       "       Date      Time                   Time Zone Category       Item  Qty  \\\n",
       "0  12/31/17  16:01:36  Pacific Time (US & Canada)   Coffee  Americano    1   \n",
       "1  12/31/17  16:01:36  Pacific Time (US & Canada)   Coffee  Macchiato    1   \n",
       "2  12/31/17  15:47:59  Pacific Time (US & Canada)      Tea        Tea    1   \n",
       "3  12/31/17  15:47:59  Pacific Time (US & Canada)   Coffee  Americano    1   \n",
       "4  12/31/17  15:47:59  Pacific Time (US & Canada)   Coffee      Latte    1   \n",
       "\n",
       "    Price Point Name  SKU Modifiers Applied Gross Sales Discounts Net Sales  \\\n",
       "0       Small, 12 oz  NaN               NaN       $2.65     $0.00     $2.65   \n",
       "1        4 oz (trad)  NaN             Decaf       $3.50     $0.00     $3.50   \n",
       "2  English Breakfast  NaN               NaN       $2.60     $0.00     $2.60   \n",
       "3       Small, 12 oz  NaN               NaN       $2.65     $0.00     $2.65   \n",
       "4       Small, 12 oz  NaN               NaN       $3.80     $0.00     $3.80   \n",
       "\n",
       "     Tax Dining Option Customer ID Customer Name Customer Reference ID  \n",
       "0  $0.13         To Go         NaN           NaN                   NaN  \n",
       "1  $0.18         To Go         NaN           NaN                   NaN  \n",
       "2  $0.13         To Go         NaN           NaN                   NaN  \n",
       "3  $0.13         To Go         NaN           NaN                   NaN  \n",
       "4  $0.19         To Go         NaN           NaN                   NaN  "
      ]
     },
     "execution_count": 36,
     "metadata": {},
     "output_type": "execute_result"
    }
   ],
   "source": [
    "all_sales.head()"
   ]
  },
  {
   "cell_type": "markdown",
   "metadata": {},
   "source": [
    "Cleaning the data"
   ]
  },
  {
   "cell_type": "code",
   "execution_count": 37,
   "metadata": {
    "collapsed": true
   },
   "outputs": [],
   "source": [
    "#Remove useless columns\n",
    "for col in ['SKU','Customer ID', 'Customer Name', 'Customer Reference ID']:\n",
    "    all_sales.drop(columns = col, inplace = True)\n",
    "    "
   ]
  },
  {
   "cell_type": "code",
   "execution_count": 38,
   "metadata": {
    "collapsed": true
   },
   "outputs": [],
   "source": [
    "#Remove the dollar signs from select columns and convert to float\n",
    "for col in ['Gross Sales', 'Discounts', 'Net Sales', 'Tax']:\n",
    "    all_sales[col] = all_sales[col].str.replace('$','', regex = False)\n",
    "    all_sales[col] = all_sales[col].astype('float64')\n",
    "\n",
    "    "
   ]
  },
  {
   "cell_type": "code",
   "execution_count": 39,
   "metadata": {},
   "outputs": [
    {
     "data": {
      "text/plain": [
       "<matplotlib.axes._subplots.AxesSubplot at 0x21c037fb2e8>"
      ]
     },
     "execution_count": 39,
     "metadata": {},
     "output_type": "execute_result"
    },
    {
     "data": {
      "image/png": "[encoded data removed]",
      "text/plain": [
       "<Figure size 432x288 with 1 Axes>"
      ]
     },
     "metadata": {
      "needs_background": "light"
     },
     "output_type": "display_data"
    }
   ],
   "source": [
    "#A quick plotting of discounts shows two outliers: positive discounts\n",
    "all_sales['Discounts'].plot()"
   ]
  },
  {
   "cell_type": "code",
   "execution_count": 40,
   "metadata": {
    "collapsed": true
   },
   "outputs": [],
   "source": [
    "#There are a couple 'negative' sales with negative quantity, negative sale, positive discount, etc (all signs switched)\n",
    "#Fix them by flipping signs.\n",
    "\n",
    "select_columns = all_sales.select_dtypes(include=['number']).columns\n",
    "condition = all_sales['Discounts']>0\n",
    "all_sales.loc[condition, select_columns] *= -1"
   ]
  },
  {
   "cell_type": "code",
   "execution_count": 41,
   "metadata": {
    "collapsed": true
   },
   "outputs": [],
   "source": [
    "\n",
    "#For the dates that mistakenly took the first months as years, remove the 20\n",
    "all_sales.loc[all_sales['Date'].str.len()>8,'Date'] = [x[2:] for x in all_sales.loc[all_sales['Date'].str.len()>8]['Date']]\n",
    "all_sales['Date'] = all_sales[all_sales['Date'].notnull()]"
   ]
  },
  {
   "cell_type": "code",
   "execution_count": 42,
   "metadata": {
    "scrolled": true
   },
   "outputs": [
    {
     "data": {
      "text/plain": [
       "array(['Day old', 'Custom Amount', 'Christmas Things', 'Kids Stuff',\n",
       "       'Laminated Pastries', 'Fridge Drinks', 'Mocha', 'Juices',\n",
       "       'Americano', 'Pies', 'Espresso', 'Homemade Hot Chocolate', 'Chai',\n",
       "       'Sausage Roll', 'London Fog', 'Quiche ', 'Weekly Special (Voided)',\n",
       "       'Custom Amount (Voided)', 'Burger buns', 'Weekly Special',\n",
       "       'Dome Cake', 'Latte', 'Delivery Fee'], dtype=object)"
      ]
     },
     "execution_count": 42,
     "metadata": {},
     "output_type": "execute_result"
    }
   ],
   "source": [
    "#Identify the products that are not categorized\n",
    "all_sales[all_sales['Category']== 'None']['Item'].unique()"
   ]
  },
  {
   "cell_type": "code",
   "execution_count": 43,
   "metadata": {
    "scrolled": true
   },
   "outputs": [
    {
     "data": {
      "text/plain": [
       "array(['Coffee', 'Tea', 'Food', 'Breakfast', 'Misc Drinks', 'Lunch',\n",
       "       'Pastries', 'Hot breakfast', 'None', 'Grab And Go', 'Merch'],\n",
       "      dtype=object)"
      ]
     },
     "execution_count": 43,
     "metadata": {},
     "output_type": "execute_result"
    }
   ],
   "source": [
    "#Identify unique categries\n",
    "all_sales['Category'].unique()"
   ]
  },
  {
   "cell_type": "code",
   "execution_count": 44,
   "metadata": {
    "collapsed": true
   },
   "outputs": [],
   "source": [
    "#Change burger buns to Burger Buns, etc\n",
    "all_sales.loc[all_sales['Item']== 'burger buns', 'Item'] = 'Burger Buns'\n",
    "all_sales.loc[all_sales['Item']== 'Burger buns', 'Item'] = 'Burger Buns'\n",
    "all_sales.loc[all_sales['Item']== 'Quiche ', 'Item'] = 'Quiche'"
   ]
  },
  {
   "cell_type": "code",
   "execution_count": 45,
   "metadata": {
    "collapsed": true
   },
   "outputs": [],
   "source": [
    "#Alerted the manager of uncategorized products\n",
    "#Categorize according to the manager's instructions\n",
    "categorization = {'Day old':'Food',\n",
    "                'Custom Amount':'Misc',\n",
    "                'Christmas Things':'Pastries',\n",
    "                'Kids Stuff':'Misc Drinks',\n",
    "                'Laminated Pastries':'Pastries',\n",
    "                'Fridge Drinks':'Misc Drinks',\n",
    "                'Mocha':'Coffee',\n",
    "                'Juices':'Misc Drinks',\n",
    "                'Americano':'Coffee',\n",
    "                'Pies':'Food',\n",
    "                'Espresso':'Coffee',\n",
    "                'Homemade Hot Chocolate':'Coffee',\n",
    "                'Chai':'Tea',\n",
    "                'Sausage Roll':'Pastries',\n",
    "                'London Fog':'Tea',\n",
    "                'Quiche':'Food',\n",
    "                'Weekly Special (Voided)':'Voided',\n",
    "                'Custom Amount (Voided)':'Voided',\n",
    "                'Burger Buns':'Food',\n",
    "                'Weekly Special':'Food',\n",
    "                'Dome Cake':'Food',\n",
    "                'Latte':'Coffee',\n",
    "                'Delivery Fee':'Delivery Fee',\n",
    "                'Dome Cake (Voided)':'Voided',\n",
    "                'Sausage Roll (Voided)':'Voided'\n",
    "}\n",
    "for item in all_sales[all_sales['Category']== 'None']['Item'].unique():\n",
    "    if categorization[item]:\n",
    "        all_sales.loc[all_sales['Item']==item,'Category'] = categorization[item]\n",
    "    else:\n",
    "        raise Exception(\"There's an uncategorized item!\")\n",
    "\n"
   ]
  },
  {
   "cell_type": "code",
   "execution_count": 46,
   "metadata": {},
   "outputs": [
    {
     "data": {
      "text/plain": [
       "True"
      ]
     },
     "execution_count": 46,
     "metadata": {},
     "output_type": "execute_result"
    }
   ],
   "source": [
    "#There are modifiers applied that are null but are there any other values that are null?\n",
    "condition = all_sales['Modifiers Applied'].notnull()\n",
    "all(all_sales.loc[condition,all_sales.columns].notnull())"
   ]
  },
  {
   "cell_type": "code",
   "execution_count": 47,
   "metadata": {
    "collapsed": true,
    "scrolled": true
   },
   "outputs": [],
   "source": [
    "#Just combine date and time. Uniformize the format before converting to datetime series.\n",
    "all_sales['Date']= all_sales['Date']+' '+all_sales['Time']\n",
    "all_sales = all_sales.drop('Time', axis=1)\n",
    "all_sales['Date']=all_sales['Date'].str.replace('-','/')\n",
    "all_sales['Date']=pd.to_datetime(all_sales['Date'],format='%m/%d/%y %H:%M:%S')\n"
   ]
  },
  {
   "cell_type": "code",
   "execution_count": 48,
   "metadata": {
    "collapsed": true
   },
   "outputs": [],
   "source": [
    "# all_sales['Date']=pd.Timestamp(all_sales['Date'])"
   ]
  },
  {
   "cell_type": "code",
   "execution_count": 49,
   "metadata": {
    "collapsed": true
   },
   "outputs": [],
   "source": [
    "#Set the new datetime series as the index.\n",
    "all_sales.index=all_sales['Date']\n",
    "all_sales = all_sales.drop(['Date'],axis=1)"
   ]
  },
  {
   "cell_type": "code",
   "execution_count": 50,
   "metadata": {
    "collapsed": true
   },
   "outputs": [],
   "source": [
    "#Sort chronologically\n",
    "all_sales.sort_index(inplace=True)"
   ]
  },
  {
   "cell_type": "code",
   "execution_count": 51,
   "metadata": {
    "collapsed": true
   },
   "outputs": [],
   "source": [
    "#Save the clean data\n",
    "all_sales.to_csv('Clean Sales (2017-2018).csv')"
   ]
  }
 ],
 "metadata": {
  "kernelspec": {
   "display_name": "Python 3",
   "language": "python",
   "name": "python3"
  },
  "language_info": {
   "codemirror_mode": {
    "name": "ipython",
    "version": 3
   },
   "file_extension": ".py",
   "mimetype": "text/x-python",
   "name": "python",
   "nbconvert_exporter": "python",
   "pygments_lexer": "ipython3",
   "version": "3.4.5"
  }
 },
 "nbformat": 4,
 "nbformat_minor": 2
}
